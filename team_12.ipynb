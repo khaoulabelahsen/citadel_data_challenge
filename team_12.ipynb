{
 "cells": [
  {
   "cell_type": "markdown",
   "metadata": {},
   "source": [
    "# Data challenge Citadel "
   ]
  },
  {
   "cell_type": "code",
   "execution_count": 33,
   "metadata": {},
   "outputs": [],
   "source": [
    "import pandas as pd\n",
    "from functions_graph import laplacian_matrix\n",
    "from sklearn.decomposition import PCA\n",
    "import matplotlib.pyplot as plt\n",
    "import numpy as np"
   ]
  },
  {
   "cell_type": "markdown",
   "metadata": {},
   "source": [
    "## Data selection"
   ]
  },
  {
   "cell_type": "code",
   "execution_count": 8,
   "metadata": {},
   "outputs": [
    {
     "data": {
      "text/html": [
       "<div>\n",
       "<style scoped>\n",
       "    .dataframe tbody tr th:only-of-type {\n",
       "        vertical-align: middle;\n",
       "    }\n",
       "\n",
       "    .dataframe tbody tr th {\n",
       "        vertical-align: top;\n",
       "    }\n",
       "\n",
       "    .dataframe thead th {\n",
       "        text-align: right;\n",
       "    }\n",
       "</style>\n",
       "<table border=\"1\" class=\"dataframe\">\n",
       "  <thead>\n",
       "    <tr style=\"text-align: right;\">\n",
       "      <th></th>\n",
       "      <th>tripduration</th>\n",
       "      <th>starttime</th>\n",
       "      <th>stoptime</th>\n",
       "      <th>start_station_id</th>\n",
       "      <th>end_station_id</th>\n",
       "      <th>bikeid</th>\n",
       "      <th>usertype</th>\n",
       "      <th>birthyear</th>\n",
       "      <th>gender</th>\n",
       "    </tr>\n",
       "  </thead>\n",
       "  <tbody>\n",
       "    <tr>\n",
       "      <th>0</th>\n",
       "      <td>134</td>\n",
       "      <td>06-24-19 20:49:24</td>\n",
       "      <td>06-24-19 20:51:39</td>\n",
       "      <td>3258.0</td>\n",
       "      <td>494.0</td>\n",
       "      <td>15493</td>\n",
       "      <td>1.0</td>\n",
       "      <td>1990.0</td>\n",
       "      <td>1</td>\n",
       "    </tr>\n",
       "    <tr>\n",
       "      <th>1</th>\n",
       "      <td>1732</td>\n",
       "      <td>06-24-19 20:49:27</td>\n",
       "      <td>06-24-19 21:18:20</td>\n",
       "      <td>3496.0</td>\n",
       "      <td>3622.0</td>\n",
       "      <td>19404</td>\n",
       "      <td>0.0</td>\n",
       "      <td>1998.0</td>\n",
       "      <td>1</td>\n",
       "    </tr>\n",
       "    <tr>\n",
       "      <th>2</th>\n",
       "      <td>2042</td>\n",
       "      <td>06-24-19 20:49:31</td>\n",
       "      <td>06-24-19 21:23:33</td>\n",
       "      <td>3613.0</td>\n",
       "      <td>3122.0</td>\n",
       "      <td>15896</td>\n",
       "      <td>0.0</td>\n",
       "      <td>1999.0</td>\n",
       "      <td>1</td>\n",
       "    </tr>\n",
       "    <tr>\n",
       "      <th>3</th>\n",
       "      <td>284</td>\n",
       "      <td>06-24-19 20:49:32</td>\n",
       "      <td>06-24-19 20:54:17</td>\n",
       "      <td>420.0</td>\n",
       "      <td>3049.0</td>\n",
       "      <td>27690</td>\n",
       "      <td>1.0</td>\n",
       "      <td>1987.0</td>\n",
       "      <td>1</td>\n",
       "    </tr>\n",
       "    <tr>\n",
       "      <th>4</th>\n",
       "      <td>1048</td>\n",
       "      <td>06-24-19 20:49:38</td>\n",
       "      <td>06-24-19 21:07:06</td>\n",
       "      <td>315.0</td>\n",
       "      <td>351.0</td>\n",
       "      <td>33320</td>\n",
       "      <td>0.0</td>\n",
       "      <td>1983.0</td>\n",
       "      <td>2</td>\n",
       "    </tr>\n",
       "  </tbody>\n",
       "</table>\n",
       "</div>"
      ],
      "text/plain": [
       "   tripduration          starttime           stoptime  start_station_id  \\\n",
       "0           134  06-24-19 20:49:24  06-24-19 20:51:39            3258.0   \n",
       "1          1732  06-24-19 20:49:27  06-24-19 21:18:20            3496.0   \n",
       "2          2042  06-24-19 20:49:31  06-24-19 21:23:33            3613.0   \n",
       "3           284  06-24-19 20:49:32  06-24-19 20:54:17             420.0   \n",
       "4          1048  06-24-19 20:49:38  06-24-19 21:07:06             315.0   \n",
       "\n",
       "   end_station_id  bikeid  usertype  birthyear  gender  \n",
       "0           494.0   15493       1.0     1990.0       1  \n",
       "1          3622.0   19404       0.0     1998.0       1  \n",
       "2          3122.0   15896       0.0     1999.0       1  \n",
       "3          3049.0   27690       1.0     1987.0       1  \n",
       "4           351.0   33320       0.0     1983.0       2  "
      ]
     },
     "execution_count": 8,
     "metadata": {},
     "output_type": "execute_result"
    }
   ],
   "source": [
    "byke_data = pd.read_csv(r'.\\data\\London Datathon Materials\\nyc_bikeshare.csv', skiprows=range(1, 24000001)) # 160 days\n",
    "byke_data_keys = pd.read_csv(r'.\\data\\London Datathon Materials\\legends\\nyc_bikeshare_key.csv')\n",
    "byke_data = byke_data.dropna() # drop nan\n",
    "byke_data.head() # show the data"
   ]
  },
  {
   "cell_type": "markdown",
   "metadata": {},
   "source": [
    "## Data representation"
   ]
  },
  {
   "cell_type": "markdown",
   "metadata": {},
   "source": [
    "## Time series prediction"
   ]
  },
  {
   "cell_type": "markdown",
   "metadata": {},
   "source": [
    "## PCA representation using graph\n",
    "\n",
    "We first perform PCA on Laplacian matrix (induced by the stations' flows)."
   ]
  },
  {
   "cell_type": "code",
   "execution_count": 13,
   "metadata": {},
   "outputs": [],
   "source": [
    "L = laplacian_matrix(byke_data) # get the laplacian matrix\n",
    "pca = PCA(n_components=2) # intialize the pca method\n",
    "pca.fit(L) # fit on the laplacian matrix\n",
    "L = pca.transform(L) # apply transformation"
   ]
  },
  {
   "cell_type": "code",
   "execution_count": 27,
   "metadata": {},
   "outputs": [
    {
     "data": {
      "image/png": "[encoded data removed]",
      "text/plain": [
       "<Figure size 720x360 with 1 Axes>"
      ]
     },
     "metadata": {
      "needs_background": "light"
     },
     "output_type": "display_data"
    }
   ],
   "source": [
    "# %matplotlib notebook # inline\n",
    "plt.figure(figsize=(10, 5))\n",
    "plt.plot(L[:, 0], L[:, 1], '.')\n",
    "plt.xlim(-3, 3)\n",
    "plt.ylim(-6, 6)\n",
    "plt.title('PCA representation of Laplacian matrix')\n",
    "plt.xlabel('First eigenvalue')\n",
    "plt.ylabel('Second eigenvalue')\n",
    "plt.show()"
   ]
  },
  {
   "cell_type": "markdown",
   "metadata": {},
   "source": [
    "We now try to change the weight matrix (previously indentity matrix) in order to have a better representation."
   ]
  },
  {
   "cell_type": "code",
   "execution_count": 34,
   "metadata": {},
   "outputs": [],
   "source": [
    "###############\n",
    "### WEIGHTS ###\n",
    "###############\n",
    "\n",
    "### prepare data\n",
    "df_join_start = byke_data.join(byke_data_keys.set_index('station_id'), on='start_station_id')\n",
    "df_join_end = byke_data.join(byke_data_keys.set_index('station_id'), on='end_station_id')\n",
    "data_start = df_join_start.groupby(['start_station_id']).agg('count')\n",
    "data_end = df_join_start.groupby(['end_station_id']).agg('count')\n",
    "data_end.index = [int(i) for i in data_end.index]\n",
    "data_start.index = [int(i) for i in data_start.index]\n",
    "unique_station = set(byke_data.start_station_id.unique()).union(set(byke_data.end_station_id.unique()))\n",
    "station2id = {key: i for i, key in enumerate(unique_station)}\n",
    "id2station = {station2id[key]: key for key in station2id}\n",
    "\n",
    "\n",
    "### compute weights here\n",
    "weights = []\n",
    "for i in range(len(unique_station)):\n",
    "    if id2station[i] in data_start.index:\n",
    "        in_bike = data_start.loc[id2station[i], 'tripduration']\n",
    "    else:\n",
    "        in_bike = 0\n",
    "    out_bike = data_end.loc[id2station[i], 'tripduration']\n",
    "    weights.append(abs(in_bike - out_bike)) # weight formula\n",
    "weights = np.array(weights) / sum(weights)"
   ]
  },
  {
   "cell_type": "code",
   "execution_count": 38,
   "metadata": {},
   "outputs": [],
   "source": [
    "L = laplacian_matrix(byke_data) # get the laplacian matrix\n",
    "L *= weights\n",
    "pca = PCA(n_components=2) # intialize the pca method\n",
    "pca.fit(L) # fit on the laplacian matrix\n",
    "L = pca.transform(L) # apply transformation"
   ]
  },
  {
   "cell_type": "code",
   "execution_count": 44,
   "metadata": {},
   "outputs": [
    {
     "data": {
      "image/png": "[encoded data removed]",
      "text/plain": [
       "<Figure size 720x360 with 1 Axes>"
      ]
     },
     "metadata": {
      "needs_background": "light"
     },
     "output_type": "display_data"
    }
   ],
   "source": [
    "# %matplotlib notebook \n",
    "plt.figure(figsize=(10, 5))\n",
    "plt.plot(L[:, 0], L[:, 1], '.')\n",
    "plt.xlim(-0.035, 0.005)\n",
    "plt.ylim(-0.03, 0.01)\n",
    "plt.title('PCA representation of Laplacian matrix')\n",
    "plt.xlabel('First eigenvalue')\n",
    "plt.ylabel('Second eigenvalue')\n",
    "plt.show()"
   ]
  },
  {
   "cell_type": "markdown",
   "metadata": {},
   "source": [
    "The figure illustrates 4 clusters for our network (using weights based on abs(in_flow - out_flow))."
   ]
  },
  {
   "cell_type": "code",
   "execution_count": null,
   "metadata": {},
   "outputs": [],
   "source": []
  }
 ],
 "metadata": {
  "kernelspec": {
   "display_name": "Python 3",
   "language": "python",
   "name": "python3"
  },
  "language_info": {
   "codemirror_mode": {
    "name": "ipython",
    "version": 3
   },
   "file_extension": ".py",
   "mimetype": "text/x-python",
   "name": "python",
   "nbconvert_exporter": "python",
   "pygments_lexer": "ipython3",
   "version": "3.7.1"
  }
 },
 "nbformat": 4,
 "nbformat_minor": 2
}
